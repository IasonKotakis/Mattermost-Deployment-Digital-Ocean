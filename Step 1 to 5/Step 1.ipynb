{
 "cells": [
  {
   "cell_type": "markdown",
   "id": "ebc83165",
   "metadata": {},
   "source": [
    "# Step 1 "
   ]
  },
  {
   "cell_type": "markdown",
   "id": "bc47b6c0",
   "metadata": {},
   "source": [
    "<hr>"
   ]
  },
  {
   "cell_type": "markdown",
   "id": "35a2fd9b",
   "metadata": {},
   "source": [
    "<h2> Description </h2>"
   ]
  },
  {
   "cell_type": "markdown",
   "id": "8e58a14f",
   "metadata": {},
   "source": [
    "<p>Working with ticketing systems will take up a sizable deal of your time as a system administrator. You can prioritise tasks and gain a better understanding of how your firm uses IT as a whole by using a ticketing system effectively.\n",
    "You will need to provision a virtual machine for this project, then set up the OTRS ticketing system on it.</p>"
   ]
  },
  {
   "cell_type": "markdown",
   "id": "bfa9f444",
   "metadata": {},
   "source": []
  },
  {
   "cell_type": "markdown",
   "id": "574dfb11",
   "metadata": {},
   "source": [
    "<h2> VM Setup </h2>"
   ]
  },
  {
   "cell_type": "markdown",
   "id": "1e7b2f89",
   "metadata": {},
   "source": [
    "<p>You must use your DigitalOcean account to construct a virtual machine (VM) before you can begin this project. Log in to the dashboard and follow these steps to continue:</p>"
   ]
  },
  {
   "attachments": {},
   "cell_type": "markdown",
   "id": "daaa8e8c",
   "metadata": {},
   "source": [
    "<img src=\"https://github.com/IasonKotakis/Mattermost-Deployment-Digital-Ocean/blob/images/images/create%20droplet.png\">"
   ]
  },
  {
   "cell_type": "markdown",
   "id": "bdfd3a60",
   "metadata": {},
   "source": [
    "<ol>\n",
    "    <li>At the top right of the dashboard, click ‘Create’ button, and then select ‘droplets’</li>\n",
    "    <li>Under the ‘Choose an Image’ section, click ‘Snapshots’.</li>\n",
    "    <li>Select Ubuntu destribution.</li>\n",
    "    <li>Under the ‘Choose Plan’ section, click ‘Basic’ and select CPU options ‘Regular with SSD’.</li>\n",
    "    <li>Click the arrow to scroll to the left of the list of Droplet types, scroll to the far left until you can choose ‘$6/month’. </li>\n",
    "    <li>Switch the ‘Authentication’ button to Password. Choose a memorable one and be sure to record it somewhere safe.</li>\n",
    "    <li>At the very bottom under ‘Choose a hostname’, you can name it to your desires.</li>\n",
    "    <li>Click ‘Create’</li>\n",
    "    <li>You will now be back to at the dashboard. Once your VM is finished provisioning, look for it in the list and copy the IP address somewhere.</li>\n",
    "</ol>"
   ]
  },
  {
   "cell_type": "markdown",
   "id": "cdf3a03b",
   "metadata": {},
   "source": [
    "<img src=\"https://github.com/IasonKotakis/Mattermost-Deployment-Digital-Ocean/blob/images/images/droplet%20dashboard.png\" alt=\"droplet dashboard\" width=\"300px\" height=\"300px\">"
   ]
  },
  {
   "cell_type": "markdown",
   "id": "5520a479",
   "metadata": {},
   "source": [
    "<ol>\n",
    "    <li>In the menu on the very left, select ‘Manage’ and navigate to ‘Networking’ section.</li>\n",
    "    <li>In the HOSTNAME field add your hostname from point 7 above.</li>\n",
    "    <li>In the ‘WILL REDIRECT TO’ ﬁeld, input the IP address you recorded, or\n",
    "select your VM from the list.</li>\n",
    "    <li>Click ‘Create Record’ and ZABAM, now you can use either PuTTy or any SSH client to connect to your VM.</li>\n",
    "</ol>"
   ]
  },
  {
   "cell_type": "markdown",
   "id": "7d969303",
   "metadata": {},
   "source": [
    "<img src=\"https://github.com/IasonKotakis/Mattermost-Deployment-Digital-Ocean/blob/images/images/clapping-hands-emoji-clipart-md.png\" alt=\"clapping hands\" width=\"300px\" height=\"300px\">"
   ]
  },
  {
   "cell_type": "markdown",
   "id": "962aa5d6",
   "metadata": {},
   "source": [
    "<hr>"
   ]
  },
  {
   "cell_type": "markdown",
   "id": "14246d71",
   "metadata": {},
   "source": [
    "<p> Wonderful!!! You have completed Step 1, how about we delve deeper and set OTRS on [Step 2](https://github.com/IasonKotakis/Mattermost-Deployment-Digital-Ocean/blob/documentation/Step%201%20to%205/Step%202)? "
   ]
  }
 ],
 "metadata": {
  "kernelspec": {
   "display_name": "Python 3 (ipykernel)",
   "language": "python",
   "name": "python3"
  },
  "language_info": {
   "codemirror_mode": {
    "name": "ipython",
    "version": 3
   },
   "file_extension": ".py",
   "mimetype": "text/x-python",
   "name": "python",
   "nbconvert_exporter": "python",
   "pygments_lexer": "ipython3",
   "version": "3.10.8"
  }
 },
 "nbformat": 4,
 "nbformat_minor": 5
}
